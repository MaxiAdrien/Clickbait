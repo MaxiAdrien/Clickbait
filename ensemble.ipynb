{
 "cells": [
  {
   "cell_type": "code",
   "execution_count": 1,
   "metadata": {},
   "outputs": [],
   "source": [
    "# Imports\n",
    "\n",
    "import pandas as pd\n",
    "import numpy as np\n",
    "from sklearn.metrics import accuracy_score, recall_score, precision_score, f1_score, confusion_matrix"
   ]
  },
  {
   "cell_type": "code",
   "execution_count": 2,
   "metadata": {},
   "outputs": [],
   "source": [
    "# Load individual predictions\n",
    "\n",
    "nb = pd.read_csv('outputs/predictions_nb.csv')\n",
    "rf = pd.read_csv('outputs/predictions_rf.csv')\n",
    "svm = pd.read_csv('outputs/predictions_svm.csv')"
   ]
  },
  {
   "cell_type": "code",
   "execution_count": 3,
   "metadata": {},
   "outputs": [
    {
     "name": "stdout",
     "output_type": "stream",
     "text": [
      "Percentage of identical predictions between Naive Bayes and Random Forest: 0.9747\n",
      "Percentage of identical predictions between Naive Bayes and Support Vector Machine: 0.9695\n",
      "Percentage of identical predictions between Random Forest and Support Vector Machine: 0.9814\n"
     ]
    }
   ],
   "source": [
    "# Calculate percentage of identical predictions for each pair of models\n",
    "\n",
    "pct_identical_nb_rf = np.mean(nb['prediction'] == rf['prediction'])\n",
    "pct_identical_nb_svm = np.mean(nb['prediction'] == svm['prediction'])\n",
    "pct_identical_rf_svm = np.mean(rf['prediction'] == svm['prediction'])\n",
    "\n",
    "print('Percentage of identical predictions between Naive Bayes and Random Forest:',\n",
    "      round(pct_identical_nb_rf, 4))\n",
    "print('Percentage of identical predictions between Naive Bayes and Support Vector Machine:',\n",
    "      round(pct_identical_nb_svm, 4))\n",
    "print('Percentage of identical predictions between Random Forest and Support Vector Machine:',\n",
    "      round(pct_identical_rf_svm, 4))"
   ]
  },
  {
   "cell_type": "code",
   "execution_count": 7,
   "metadata": {},
   "outputs": [
    {
     "data": {
      "text/html": [
       "<div>\n",
       "<style scoped>\n",
       "    .dataframe tbody tr th:only-of-type {\n",
       "        vertical-align: middle;\n",
       "    }\n",
       "\n",
       "    .dataframe tbody tr th {\n",
       "        vertical-align: top;\n",
       "    }\n",
       "\n",
       "    .dataframe thead th {\n",
       "        text-align: right;\n",
       "    }\n",
       "</style>\n",
       "<table border=\"1\" class=\"dataframe\">\n",
       "  <thead>\n",
       "    <tr style=\"text-align: right;\">\n",
       "      <th></th>\n",
       "      <th>text</th>\n",
       "      <th>clickbait</th>\n",
       "      <th>prediction</th>\n",
       "    </tr>\n",
       "  </thead>\n",
       "  <tbody>\n",
       "    <tr>\n",
       "      <th>0</th>\n",
       "      <td>czech republic minister of transport banned fr...</td>\n",
       "      <td>0</td>\n",
       "      <td>0</td>\n",
       "    </tr>\n",
       "    <tr>\n",
       "      <th>1</th>\n",
       "      <td>the rocky horror picture show cast reunited an...</td>\n",
       "      <td>1</td>\n",
       "      <td>1</td>\n",
       "    </tr>\n",
       "    <tr>\n",
       "      <th>2</th>\n",
       "      <td>apple introduces iphone and apple tv</td>\n",
       "      <td>0</td>\n",
       "      <td>0</td>\n",
       "    </tr>\n",
       "    <tr>\n",
       "      <th>3</th>\n",
       "      <td>mayor of camden london arrested in benefit fra...</td>\n",
       "      <td>0</td>\n",
       "      <td>0</td>\n",
       "    </tr>\n",
       "    <tr>\n",
       "      <th>4</th>\n",
       "      <td>tibetans demand that china release panchen lam...</td>\n",
       "      <td>0</td>\n",
       "      <td>0</td>\n",
       "    </tr>\n",
       "    <tr>\n",
       "      <th>5</th>\n",
       "      <td>australian treasury related agencies spend 170...</td>\n",
       "      <td>0</td>\n",
       "      <td>0</td>\n",
       "    </tr>\n",
       "    <tr>\n",
       "      <th>6</th>\n",
       "      <td>14 struggles every person who is the last of t...</td>\n",
       "      <td>1</td>\n",
       "      <td>1</td>\n",
       "    </tr>\n",
       "    <tr>\n",
       "      <th>7</th>\n",
       "      <td>32 times spongebob perfectly summed up your life</td>\n",
       "      <td>1</td>\n",
       "      <td>1</td>\n",
       "    </tr>\n",
       "    <tr>\n",
       "      <th>8</th>\n",
       "      <td>27 types of drunk you have definitely been as ...</td>\n",
       "      <td>1</td>\n",
       "      <td>1</td>\n",
       "    </tr>\n",
       "    <tr>\n",
       "      <th>9</th>\n",
       "      <td>passenger plane crashes in nepal killing 18</td>\n",
       "      <td>0</td>\n",
       "      <td>0</td>\n",
       "    </tr>\n",
       "    <tr>\n",
       "      <th>10</th>\n",
       "      <td>romanian sergeant killed in afghanistan by mak...</td>\n",
       "      <td>0</td>\n",
       "      <td>0</td>\n",
       "    </tr>\n",
       "    <tr>\n",
       "      <th>11</th>\n",
       "      <td>andy roddick presents challenge for coach larr...</td>\n",
       "      <td>0</td>\n",
       "      <td>0</td>\n",
       "    </tr>\n",
       "    <tr>\n",
       "      <th>12</th>\n",
       "      <td>time magazines 2006 person of the year is you</td>\n",
       "      <td>0</td>\n",
       "      <td>1</td>\n",
       "    </tr>\n",
       "    <tr>\n",
       "      <th>13</th>\n",
       "      <td>the 11 types of kids we all grew up with</td>\n",
       "      <td>1</td>\n",
       "      <td>1</td>\n",
       "    </tr>\n",
       "    <tr>\n",
       "      <th>14</th>\n",
       "      <td>john m spratt jr</td>\n",
       "      <td>0</td>\n",
       "      <td>0</td>\n",
       "    </tr>\n",
       "  </tbody>\n",
       "</table>\n",
       "</div>"
      ],
      "text/plain": [
       "                                                 text  clickbait  prediction\n",
       "0   czech republic minister of transport banned fr...          0           0\n",
       "1   the rocky horror picture show cast reunited an...          1           1\n",
       "2                apple introduces iphone and apple tv          0           0\n",
       "3   mayor of camden london arrested in benefit fra...          0           0\n",
       "4   tibetans demand that china release panchen lam...          0           0\n",
       "5   australian treasury related agencies spend 170...          0           0\n",
       "6   14 struggles every person who is the last of t...          1           1\n",
       "7    32 times spongebob perfectly summed up your life          1           1\n",
       "8   27 types of drunk you have definitely been as ...          1           1\n",
       "9         passenger plane crashes in nepal killing 18          0           0\n",
       "10  romanian sergeant killed in afghanistan by mak...          0           0\n",
       "11  andy roddick presents challenge for coach larr...          0           0\n",
       "12      time magazines 2006 person of the year is you          0           1\n",
       "13           the 11 types of kids we all grew up with          1           1\n",
       "14                                   john m spratt jr          0           0"
      ]
     },
     "execution_count": 7,
     "metadata": {},
     "output_type": "execute_result"
    }
   ],
   "source": [
    "# Make predictions\n",
    "\n",
    "ensemble = nb\n",
    "ensemble['prediction'] = pd.concat([nb['prediction'], rf['prediction'], svm['prediction']], axis=1).mode(axis=1)\n",
    "\n",
    "ensemble.head(15)"
   ]
  },
  {
   "cell_type": "code",
   "execution_count": 5,
   "metadata": {},
   "outputs": [
    {
     "name": "stdout",
     "output_type": "stream",
     "text": [
      "Accuracy: 0.9725\n",
      "Recall: 0.9666\n",
      "Precision: 0.9777\n",
      "F1 score: 0.9721\n",
      "Confusion matrix:\n",
      "[[3153   70]\n",
      " [ 106 3071]]\n"
     ]
    }
   ],
   "source": [
    "# Accuracy measures\n",
    "\n",
    "accuracy = accuracy_score(ensemble['clickbait'], ensemble['prediction'])\n",
    "recall = recall_score(ensemble['clickbait'], ensemble['prediction'])\n",
    "precision = precision_score(ensemble['clickbait'], ensemble['prediction'])\n",
    "f1_score = f1_score(ensemble['clickbait'], ensemble['prediction'])\n",
    "confusion_matrix = confusion_matrix(ensemble['clickbait'], ensemble['prediction'])\n",
    "\n",
    "print('Accuracy:', round(accuracy, 4))\n",
    "print('Recall:', round(recall, 4))\n",
    "print('Precision:', round(precision, 4))\n",
    "print('F1 score:', round(f1_score, 4))\n",
    "print('Confusion matrix:')\n",
    "print(confusion_matrix)"
   ]
  },
  {
   "cell_type": "code",
   "execution_count": 6,
   "metadata": {},
   "outputs": [],
   "source": [
    "# Save predictions to csv\n",
    "\n",
    "ensemble.to_csv('outputs/prediction_ensemble.csv', index=False)"
   ]
  }
 ],
 "metadata": {
  "kernelspec": {
   "display_name": "venv",
   "language": "python",
   "name": "python3"
  },
  "language_info": {
   "codemirror_mode": {
    "name": "ipython",
    "version": 3
   },
   "file_extension": ".py",
   "mimetype": "text/x-python",
   "name": "python",
   "nbconvert_exporter": "python",
   "pygments_lexer": "ipython3",
   "version": "3.11.3"
  },
  "orig_nbformat": 4
 },
 "nbformat": 4,
 "nbformat_minor": 2
}
