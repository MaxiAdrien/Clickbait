{
 "cells": [
  {
   "cell_type": "code",
   "execution_count": 1,
   "metadata": {},
   "outputs": [],
   "source": [
    "# Imports\n",
    "\n",
    "import pandas as pd\n",
    "from sklearn.model_selection import train_test_split\n",
    "from sklearn.feature_extraction.text import CountVectorizer\n",
    "from sklearn.pipeline import Pipeline\n",
    "from sklearn.preprocessing import StandardScaler\n",
    "from sklearn.svm import SVC\n",
    "from sklearn.model_selection import GridSearchCV\n",
    "from sklearn.metrics import accuracy_score, recall_score, precision_score, f1_score, confusion_matrix"
   ]
  },
  {
   "cell_type": "code",
   "execution_count": 2,
   "metadata": {},
   "outputs": [],
   "source": [
    "# Set max column width so that more characters are printed to the console\n",
    "\n",
    "pd.set_option('display.max_colwidth', 500)"
   ]
  },
  {
   "cell_type": "code",
   "execution_count": 3,
   "metadata": {},
   "outputs": [],
   "source": [
    "# Load data\n",
    "\n",
    "data = pd.read_csv('intermediary_outputs/data_processed.csv')"
   ]
  },
  {
   "cell_type": "code",
   "execution_count": 4,
   "metadata": {},
   "outputs": [],
   "source": [
    "# Train/test split\n",
    "\n",
    "X_train, X_test, y_train, y_test = train_test_split(data['text'], data['clickbait'], test_size=0.20, random_state=188)"
   ]
  },
  {
   "cell_type": "code",
   "execution_count": 5,
   "metadata": {},
   "outputs": [
    {
     "name": "stdout",
     "output_type": "stream",
     "text": [
      "First 100 words in vocabulary: ['00s', '10', '10 years', '100', '100 years', '11', '11 things', '12', '13', '13 things', '14', '15', '15 things', '15 times', '16', '16 things', '16 times', '17', '17 people', '17 people who', '17 pictures', '17 reasons', '17 things', '17 things you', '17 times', '18', '18 things', '18 things you', '18 times', '19', '19 of', '19 pictures', '19 pictures that', '19 reasons', '19 things', '19 things that', '19 things you', '19 times', '19 tweets', '1989', '20', '200', '2000s', '2004', '2005', '2006', '2007', '200708', '2008', '2009', '2010', '2011', '2012', '2015', '2016', '21', '21 of', '21 of the', '21 pictures', '21 pictures that', '21 reasons', '21 things', '21 things you', '21 times', '21 tweets', '22', '22 pictures', '22 things', '22 times', '23', '23 pictures', '23 things', '23 things you', '23 times', '24', '24 pictures', '24 pictures that', '24 things', '24 times', '25', '25 things', '25 times', '26', '27', '27 times', '28', '29', '30', '31', '32', '33', '34', '35', '36', '37', '38', '39', '40', '41', '42']\n",
      "Last 100 words in vocabulary: ['you know the', 'you laugh', 'you laugh every', 'you laugh out', 'you like', 'you live', 'you love', 'you make', 'you make it', 'you match', 'you match the', 'you might', 'you more', 'you more like', 'you name', 'you need', 'you need in', 'you need to', 'you needed', 'you never', 'you never knew', 'you on', 'you pass', 'you probably', 'you probably didnt', 'you rather', 'you really', 'you remember', 'you remember the', 'you say', 'you see', 'you seen', 'you should', 'you should be', 'you should know', 'you tell', 'you the', 'you think', 'you to', 'you to know', 'you want', 'you want to', 'you watch', 'you were', 'you will', 'you will ever', 'you will not', 'you will only', 'you will understand', 'you will want', 'you wish', 'you wish you', 'you would', 'young', 'your', 'your age', 'your best', 'your best friend', 'your bff', 'your birth', 'your birth month', 'your body', 'your day', 'your dog', 'your family', 'your favorite', 'your favourite', 'your friend', 'your friends', 'your heart', 'your home', 'your horoscope', 'your horoscope for', 'your life', 'your love', 'your mind', 'your mom', 'your name', 'your new', 'your personality', 'your relationship', 'your soulmate', 'your taste', 'your taste in', 'your zodiac', 'your zodiac sign', 'yourself', 'yourselfie', 'youth', 'youtube', 'zac', 'zac efron', 'zayn', 'zealand', 'zero', 'zimbabwe', 'zodiac', 'zodiac sign', 'zodiac sign based', 'zone']\n",
      "Number of words: 4095\n"
     ]
    }
   ],
   "source": [
    "# Vectorise\n",
    "\n",
    "count_vectorizer = CountVectorizer(min_df=0.0005,\n",
    "                                   strip_accents='ascii',\n",
    "                                   ngram_range=(1, 3))\n",
    "\n",
    "count_train = count_vectorizer.fit_transform(X_train)\n",
    "\n",
    "vocabulary = count_vectorizer.get_feature_names_out()\n",
    "\n",
    "print('First 100 words in vocabulary:', vocabulary.tolist()[:100])\n",
    "print('Last 100 words in vocabulary:', vocabulary.tolist()[-100:])\n",
    "print('Number of words:', len(vocabulary))"
   ]
  },
  {
   "cell_type": "code",
   "execution_count": 6,
   "metadata": {},
   "outputs": [],
   "source": [
    "# Pipeline - feature scaling and SVC model\n",
    "\n",
    "pipeline = Pipeline([('scaler', StandardScaler(with_mean=False)),\n",
    "                     ('SVM', SVC())])"
   ]
  },
  {
   "cell_type": "code",
   "execution_count": 7,
   "metadata": {},
   "outputs": [
    {
     "name": "stdout",
     "output_type": "stream",
     "text": [
      "Fitting 3 folds for each of 1 candidates, totalling 3 fits\n",
      "Average scores: [0.9673]\n",
      "Score standard deviations: [0.003]\n",
      "Best parameters: {'SVM__C': 1, 'SVM__degree': 2, 'SVM__gamma': 'scale', 'SVM__kernel': 'sigmoid'}\n",
      "Best score: 0.9673\n"
     ]
    }
   ],
   "source": [
    "# Hyperparameter tuning\n",
    "\n",
    "tuned_parameters = [{'SVM__C': [1],\n",
    "                     'SVM__kernel': ['sigmoid'],\n",
    "                     'SVM__degree': [2],\n",
    "                     'SVM__gamma': ['scale']}]\n",
    "\n",
    "model = GridSearchCV(pipeline, tuned_parameters, cv=3, verbose=1)\n",
    "model.fit(count_train, y_train)\n",
    "\n",
    "scores = model.cv_results_['mean_test_score']\n",
    "scores_std = model.cv_results_['std_test_score']\n",
    "\n",
    "print('Average scores:', list(scores.round(4)))\n",
    "print('Score standard deviations:', list(scores_std.round(3)))\n",
    "print('Best parameters:', model.best_params_)\n",
    "print('Best score:', round(model.best_score_, 4))"
   ]
  },
  {
   "cell_type": "code",
   "execution_count": 8,
   "metadata": {},
   "outputs": [
    {
     "data": {
      "text/html": [
       "<div>\n",
       "<style scoped>\n",
       "    .dataframe tbody tr th:only-of-type {\n",
       "        vertical-align: middle;\n",
       "    }\n",
       "\n",
       "    .dataframe tbody tr th {\n",
       "        vertical-align: top;\n",
       "    }\n",
       "\n",
       "    .dataframe thead th {\n",
       "        text-align: right;\n",
       "    }\n",
       "</style>\n",
       "<table border=\"1\" class=\"dataframe\">\n",
       "  <thead>\n",
       "    <tr style=\"text-align: right;\">\n",
       "      <th></th>\n",
       "      <th>text</th>\n",
       "      <th>clickbait</th>\n",
       "      <th>prediction</th>\n",
       "    </tr>\n",
       "  </thead>\n",
       "  <tbody>\n",
       "    <tr>\n",
       "      <th>25864</th>\n",
       "      <td>czech republic minister of transport banned from driving</td>\n",
       "      <td>0</td>\n",
       "      <td>0</td>\n",
       "    </tr>\n",
       "    <tr>\n",
       "      <th>7171</th>\n",
       "      <td>the rocky horror picture show cast reunited and it feels so good</td>\n",
       "      <td>1</td>\n",
       "      <td>1</td>\n",
       "    </tr>\n",
       "    <tr>\n",
       "      <th>24488</th>\n",
       "      <td>apple introduces iphone and apple tv</td>\n",
       "      <td>0</td>\n",
       "      <td>0</td>\n",
       "    </tr>\n",
       "    <tr>\n",
       "      <th>27776</th>\n",
       "      <td>mayor of camden london arrested in benefit fraud inquiry</td>\n",
       "      <td>0</td>\n",
       "      <td>0</td>\n",
       "    </tr>\n",
       "    <tr>\n",
       "      <th>25936</th>\n",
       "      <td>tibetans demand that china release panchen lama boy</td>\n",
       "      <td>0</td>\n",
       "      <td>0</td>\n",
       "    </tr>\n",
       "    <tr>\n",
       "      <th>27167</th>\n",
       "      <td>australian treasury related agencies spend 17000 aud on massages in 2004</td>\n",
       "      <td>0</td>\n",
       "      <td>0</td>\n",
       "    </tr>\n",
       "    <tr>\n",
       "      <th>15390</th>\n",
       "      <td>14 struggles every person who is the last of their friends to get married has</td>\n",
       "      <td>1</td>\n",
       "      <td>1</td>\n",
       "    </tr>\n",
       "    <tr>\n",
       "      <th>14108</th>\n",
       "      <td>32 times spongebob perfectly summed up your life</td>\n",
       "      <td>1</td>\n",
       "      <td>1</td>\n",
       "    </tr>\n",
       "    <tr>\n",
       "      <th>4234</th>\n",
       "      <td>27 types of drunk you have definitely been as told by the sims</td>\n",
       "      <td>1</td>\n",
       "      <td>1</td>\n",
       "    </tr>\n",
       "    <tr>\n",
       "      <th>28386</th>\n",
       "      <td>passenger plane crashes in nepal killing 18</td>\n",
       "      <td>0</td>\n",
       "      <td>0</td>\n",
       "    </tr>\n",
       "    <tr>\n",
       "      <th>25783</th>\n",
       "      <td>romanian sergeant killed in afghanistan by makeshift landmine</td>\n",
       "      <td>0</td>\n",
       "      <td>0</td>\n",
       "    </tr>\n",
       "    <tr>\n",
       "      <th>31581</th>\n",
       "      <td>andy roddick presents challenge for coach larry stefanki</td>\n",
       "      <td>0</td>\n",
       "      <td>0</td>\n",
       "    </tr>\n",
       "    <tr>\n",
       "      <th>30564</th>\n",
       "      <td>time magazines 2006 person of the year is you</td>\n",
       "      <td>0</td>\n",
       "      <td>1</td>\n",
       "    </tr>\n",
       "    <tr>\n",
       "      <th>1492</th>\n",
       "      <td>the 11 types of kids we all grew up with</td>\n",
       "      <td>1</td>\n",
       "      <td>1</td>\n",
       "    </tr>\n",
       "    <tr>\n",
       "      <th>29532</th>\n",
       "      <td>john m spratt jr</td>\n",
       "      <td>0</td>\n",
       "      <td>0</td>\n",
       "    </tr>\n",
       "  </tbody>\n",
       "</table>\n",
       "</div>"
      ],
      "text/plain": [
       "                                                                                text  \\\n",
       "25864                       czech republic minister of transport banned from driving   \n",
       "7171                the rocky horror picture show cast reunited and it feels so good   \n",
       "24488                                           apple introduces iphone and apple tv   \n",
       "27776                       mayor of camden london arrested in benefit fraud inquiry   \n",
       "25936                            tibetans demand that china release panchen lama boy   \n",
       "27167       australian treasury related agencies spend 17000 aud on massages in 2004   \n",
       "15390  14 struggles every person who is the last of their friends to get married has   \n",
       "14108                               32 times spongebob perfectly summed up your life   \n",
       "4234                  27 types of drunk you have definitely been as told by the sims   \n",
       "28386                                    passenger plane crashes in nepal killing 18   \n",
       "25783                  romanian sergeant killed in afghanistan by makeshift landmine   \n",
       "31581                       andy roddick presents challenge for coach larry stefanki   \n",
       "30564                                  time magazines 2006 person of the year is you   \n",
       "1492                                        the 11 types of kids we all grew up with   \n",
       "29532                                                               john m spratt jr   \n",
       "\n",
       "       clickbait  prediction  \n",
       "25864          0           0  \n",
       "7171           1           1  \n",
       "24488          0           0  \n",
       "27776          0           0  \n",
       "25936          0           0  \n",
       "27167          0           0  \n",
       "15390          1           1  \n",
       "14108          1           1  \n",
       "4234           1           1  \n",
       "28386          0           0  \n",
       "25783          0           0  \n",
       "31581          0           0  \n",
       "30564          0           1  \n",
       "1492           1           1  \n",
       "29532          0           0  "
      ]
     },
     "execution_count": 8,
     "metadata": {},
     "output_type": "execute_result"
    }
   ],
   "source": [
    "# Make predictions\n",
    "\n",
    "count_test = count_vectorizer.transform(X_test)\n",
    "y_pred = model.predict(count_test)\n",
    "\n",
    "predictions = pd.DataFrame(pd.concat([X_test, y_test], axis=1), columns=['text', 'clickbait'])\n",
    "predictions['prediction'] = y_pred\n",
    "\n",
    "predictions.head(15)"
   ]
  },
  {
   "cell_type": "code",
   "execution_count": 9,
   "metadata": {},
   "outputs": [
    {
     "name": "stdout",
     "output_type": "stream",
     "text": [
      "Accuracy = 0.9681\n",
      "Recall = 0.9547\n",
      "Precision = 0.9806\n",
      "F1 score = 0.9675\n",
      "Confusion matrix\n",
      "[[3163   60]\n",
      " [ 144 3033]]\n"
     ]
    }
   ],
   "source": [
    "# Accuracy measures\n",
    "\n",
    "accuracy = accuracy_score(y_test, y_pred)\n",
    "recall = recall_score(y_test, y_pred)\n",
    "precision = precision_score(y_test, y_pred)\n",
    "f1_score = f1_score(y_test, y_pred)\n",
    "confusion_matrix = confusion_matrix(y_test, y_pred)\n",
    "\n",
    "print('Accuracy =', round(accuracy, 4))\n",
    "print('Recall =', round(recall, 4))\n",
    "print('Precision =', round(precision, 4))\n",
    "print('F1 score =', round(f1_score, 4))\n",
    "print('Confusion matrix')\n",
    "print(confusion_matrix)"
   ]
  },
  {
   "cell_type": "code",
   "execution_count": 10,
   "metadata": {},
   "outputs": [],
   "source": [
    "# Save predictions to csv\n",
    "\n",
    "predictions.to_csv('outputs/predictions_svm.csv', index=False)"
   ]
  }
 ],
 "metadata": {
  "kernelspec": {
   "display_name": "venv",
   "language": "python",
   "name": "python3"
  },
  "language_info": {
   "codemirror_mode": {
    "name": "ipython",
    "version": 3
   },
   "file_extension": ".py",
   "mimetype": "text/x-python",
   "name": "python",
   "nbconvert_exporter": "python",
   "pygments_lexer": "ipython3",
   "version": "3.11.3"
  },
  "orig_nbformat": 4
 },
 "nbformat": 4,
 "nbformat_minor": 2
}
