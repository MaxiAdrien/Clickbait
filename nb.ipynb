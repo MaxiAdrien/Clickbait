{
 "cells": [
  {
   "cell_type": "code",
   "execution_count": 30,
   "metadata": {},
   "outputs": [],
   "source": [
    "# Imports\n",
    "\n",
    "import pandas as pd\n",
    "from sklearn.model_selection import train_test_split\n",
    "from sklearn.feature_extraction.text import CountVectorizer\n",
    "from sklearn.naive_bayes import MultinomialNB\n",
    "from sklearn.model_selection import GridSearchCV\n",
    "from sklearn.metrics import accuracy_score, recall_score, precision_score, f1_score, confusion_matrix"
   ]
  },
  {
   "cell_type": "code",
   "execution_count": 31,
   "metadata": {},
   "outputs": [],
   "source": [
    "# Set max column width so that more characters are printed to the console\n",
    "\n",
    "pd.set_option('display.max_colwidth', 500)"
   ]
  },
  {
   "cell_type": "code",
   "execution_count": 32,
   "metadata": {},
   "outputs": [],
   "source": [
    "# Load data\n",
    "\n",
    "data = pd.read_csv('intermediary_outputs/data_processed.csv')"
   ]
  },
  {
   "cell_type": "code",
   "execution_count": 33,
   "metadata": {},
   "outputs": [],
   "source": [
    "# Train/test split\n",
    "\n",
    "X_train, X_test, y_train, y_test = train_test_split(data['text'], data['clickbait'], test_size=0.20, random_state=188)"
   ]
  },
  {
   "cell_type": "code",
   "execution_count": 34,
   "metadata": {},
   "outputs": [
    {
     "name": "stdout",
     "output_type": "stream",
     "text": [
      "First 100 words in vocabulary: ['00s', '00s disney', '00s disney channel', '00s girls', '00s kid', '00s kids', '00s pop', '00s song', '00s teen', '00s teen movie', '00s teens', '00s that', '05', '10', '10 2008', '10 amazing', '10 billionth', '10 celebs', '10 delicious', '10 delicious recipes', '10 in', '10 insanely', '10 insanely delicious', '10 life', '10 life changing', '10 minutes', '10 most', '10 most popular', '10 of', '10 of the', '10 people', '10 questions', '10 reasons', '10 recipes', '10 recipes to', '10 ridiculously', '10 things', '10 things hate', '10 to', '10 year', '10 year old', '10 years', '10 years ago', '10 years later', '10 years old', '100', '100 actually', '100 actually said', '100 dead', '100 killed', '100 killed in', '100 need', '100 on', '100 people', '100 years', '100 years of', '1000', '10000', '100000', '100m', '100m sprint', '100th', '101', '102', '103', '105', '106', '109', '10th', '11', '11 adorable', '11 awkward', '11 beautiful', '11 best', '11 celebrity', '11 charts', '11 charts that', '11 emojis', '11 halloween', '11 halloween costumes', '11 in', '11 of', '11 of the', '11 people', '11 people who', '11 questions', '11 quotes', '11 reasons', '11 reasons why', '11 satellite', '11 shibas', '11 shibas who', '11 things', '11 things no', '11 things people', '11 things that', '11 things you', '11 times', '11 times the', '11 types']\n",
      "Last 100 words in vocabulary: ['youtube and', 'youtube comment', 'youtube sensation', 'youtube video', 'youtuber', 'youtubers', 'yuan', 'yugoslavian', 'yukio', 'yukio hatoyama', 'yule', 'yule log', 'yushchenko', 'zac', 'zac efron', 'zac efron and', 'zac efron wore', 'zack', 'zack and', 'zack and cody', 'zagreb', 'zambia', 'zambian', 'zanu', 'zanu pf', 'zara', 'zardari', 'zayn', 'zayn and', 'zayn and liam', 'zayn malik', 'zayn malik and', 'zayn malik has', 'zayn malik looks', 'zayn maliks', 'zayn maliks first', 'zealand', 'zealand 2005', 'zealand 2005 general', 'zealand australia', 'zealand australia and', 'zealand general', 'zealand general election', 'zealand government', 'zealand police', 'zealand policeman', 'zealand policeman caught', 'zealand political', 'zealand political party', 'zealand to', 'zealander', 'zealanders', 'zealands', 'zealands south', 'zealands south island', 'zealands worst', 'zealands worst behaved', 'zelaya', 'zelda', 'zendaya', 'zendaya coleman', 'zendaya is', 'zendayas', 'zenit', 'zenit rocket', 'zenit rocket launches', 'zero', 'zika', 'zimbabwe', 'zimbabwe bound', 'zimbabwe cholera', 'zimbabwe election', 'zimbabwe for', 'zimbabwe opposition', 'zimbabwe opposition figure', 'zimbabwean', 'zimbabwean cholera', 'zimbabwean police', 'zimbabwes', 'zimmerman', 'zodiac', 'zodiac should', 'zodiac should you', 'zodiac sign', 'zodiac sign are', 'zodiac sign as', 'zodiac sign based', 'zodiac signs', 'zoey', 'zoey 101', 'zombies', 'zone', 'zones', 'zoo', 'zoolander', 'zotob', 'zotob worm', 'zuckerberg', 'zuma', 'zurich']\n",
      "Number of words: 42891\n"
     ]
    }
   ],
   "source": [
    "# Vectorise data\n",
    "\n",
    "count_vectorizer = CountVectorizer(min_df=0.00005,\n",
    "                                   strip_accents='ascii',\n",
    "                                   ngram_range=(1, 3))\n",
    "\n",
    "count_train = count_vectorizer.fit_transform(X_train)\n",
    "\n",
    "vocabulary = count_vectorizer.get_feature_names_out()\n",
    "\n",
    "print('First 100 words in vocabulary:', vocabulary.tolist()[:100])\n",
    "print('Last 100 words in vocabulary:', vocabulary.tolist()[-100:])\n",
    "print('Number of words:', len(vocabulary))"
   ]
  },
  {
   "cell_type": "code",
   "execution_count": 35,
   "metadata": {},
   "outputs": [],
   "source": [
    "# Multinomial Naive Bayes\n",
    "\n",
    "nb = MultinomialNB()"
   ]
  },
  {
   "cell_type": "code",
   "execution_count": 36,
   "metadata": {},
   "outputs": [
    {
     "name": "stdout",
     "output_type": "stream",
     "text": [
      "Fitting 5 folds for each of 14 candidates, totalling 70 fits\n",
      "Average scores: [0.9724, 0.9725, 0.9748, 0.975, 0.977, 0.977, 0.9754, 0.9754, 0.9585, 0.9585, 0.9127, 0.9131, 0.877, 0.8782]\n",
      "Score standard deviations: [0.002, 0.002, 0.002, 0.002, 0.003, 0.003, 0.002, 0.002, 0.004, 0.004, 0.002, 0.002, 0.002, 0.003]\n",
      "Best parameters: {'alpha': 0.1, 'fit_prior': True}\n",
      "Best score: 0.977\n"
     ]
    }
   ],
   "source": [
    "# Hyperparameter tuning\n",
    "\n",
    "tuned_parameters = [{'alpha': [0.001, 0.01, 0.1, 1, 10, 100, 1000],\n",
    "                     'fit_prior': [True, False]}]\n",
    "\n",
    "model = GridSearchCV(nb, tuned_parameters, cv=5, verbose=1)\n",
    "model.fit(count_train, y_train)\n",
    "\n",
    "scores = model.cv_results_['mean_test_score']\n",
    "scores_std = model.cv_results_['std_test_score']\n",
    "\n",
    "print('Average scores:', list(scores.round(4)))\n",
    "print('Score standard deviations:', list(scores_std.round(3)))\n",
    "print('Best parameters:', model.best_params_)\n",
    "print('Best score:', round(model.best_score_, 4))"
   ]
  },
  {
   "cell_type": "code",
   "execution_count": 37,
   "metadata": {},
   "outputs": [
    {
     "data": {
      "text/html": [
       "<div>\n",
       "<style scoped>\n",
       "    .dataframe tbody tr th:only-of-type {\n",
       "        vertical-align: middle;\n",
       "    }\n",
       "\n",
       "    .dataframe tbody tr th {\n",
       "        vertical-align: top;\n",
       "    }\n",
       "\n",
       "    .dataframe thead th {\n",
       "        text-align: right;\n",
       "    }\n",
       "</style>\n",
       "<table border=\"1\" class=\"dataframe\">\n",
       "  <thead>\n",
       "    <tr style=\"text-align: right;\">\n",
       "      <th></th>\n",
       "      <th>text</th>\n",
       "      <th>clickbait</th>\n",
       "      <th>prediction</th>\n",
       "    </tr>\n",
       "  </thead>\n",
       "  <tbody>\n",
       "    <tr>\n",
       "      <th>25864</th>\n",
       "      <td>czech republic minister of transport banned from driving</td>\n",
       "      <td>0</td>\n",
       "      <td>0</td>\n",
       "    </tr>\n",
       "    <tr>\n",
       "      <th>7171</th>\n",
       "      <td>the rocky horror picture show cast reunited and it feels so good</td>\n",
       "      <td>1</td>\n",
       "      <td>1</td>\n",
       "    </tr>\n",
       "    <tr>\n",
       "      <th>24488</th>\n",
       "      <td>apple introduces iphone and apple tv</td>\n",
       "      <td>0</td>\n",
       "      <td>0</td>\n",
       "    </tr>\n",
       "    <tr>\n",
       "      <th>27776</th>\n",
       "      <td>mayor of camden london arrested in benefit fraud inquiry</td>\n",
       "      <td>0</td>\n",
       "      <td>0</td>\n",
       "    </tr>\n",
       "    <tr>\n",
       "      <th>25936</th>\n",
       "      <td>tibetans demand that china release panchen lama boy</td>\n",
       "      <td>0</td>\n",
       "      <td>0</td>\n",
       "    </tr>\n",
       "    <tr>\n",
       "      <th>27167</th>\n",
       "      <td>australian treasury related agencies spend 17000 aud on massages in 2004</td>\n",
       "      <td>0</td>\n",
       "      <td>0</td>\n",
       "    </tr>\n",
       "    <tr>\n",
       "      <th>15390</th>\n",
       "      <td>14 struggles every person who is the last of their friends to get married has</td>\n",
       "      <td>1</td>\n",
       "      <td>1</td>\n",
       "    </tr>\n",
       "    <tr>\n",
       "      <th>14108</th>\n",
       "      <td>32 times spongebob perfectly summed up your life</td>\n",
       "      <td>1</td>\n",
       "      <td>1</td>\n",
       "    </tr>\n",
       "    <tr>\n",
       "      <th>4234</th>\n",
       "      <td>27 types of drunk you have definitely been as told by the sims</td>\n",
       "      <td>1</td>\n",
       "      <td>1</td>\n",
       "    </tr>\n",
       "    <tr>\n",
       "      <th>28386</th>\n",
       "      <td>passenger plane crashes in nepal killing 18</td>\n",
       "      <td>0</td>\n",
       "      <td>0</td>\n",
       "    </tr>\n",
       "    <tr>\n",
       "      <th>25783</th>\n",
       "      <td>romanian sergeant killed in afghanistan by makeshift landmine</td>\n",
       "      <td>0</td>\n",
       "      <td>0</td>\n",
       "    </tr>\n",
       "    <tr>\n",
       "      <th>31581</th>\n",
       "      <td>andy roddick presents challenge for coach larry stefanki</td>\n",
       "      <td>0</td>\n",
       "      <td>0</td>\n",
       "    </tr>\n",
       "    <tr>\n",
       "      <th>30564</th>\n",
       "      <td>time magazines 2006 person of the year is you</td>\n",
       "      <td>0</td>\n",
       "      <td>1</td>\n",
       "    </tr>\n",
       "    <tr>\n",
       "      <th>1492</th>\n",
       "      <td>the 11 types of kids we all grew up with</td>\n",
       "      <td>1</td>\n",
       "      <td>1</td>\n",
       "    </tr>\n",
       "    <tr>\n",
       "      <th>29532</th>\n",
       "      <td>john m spratt jr</td>\n",
       "      <td>0</td>\n",
       "      <td>0</td>\n",
       "    </tr>\n",
       "  </tbody>\n",
       "</table>\n",
       "</div>"
      ],
      "text/plain": [
       "                                                                                text  \\\n",
       "25864                       czech republic minister of transport banned from driving   \n",
       "7171                the rocky horror picture show cast reunited and it feels so good   \n",
       "24488                                           apple introduces iphone and apple tv   \n",
       "27776                       mayor of camden london arrested in benefit fraud inquiry   \n",
       "25936                            tibetans demand that china release panchen lama boy   \n",
       "27167       australian treasury related agencies spend 17000 aud on massages in 2004   \n",
       "15390  14 struggles every person who is the last of their friends to get married has   \n",
       "14108                               32 times spongebob perfectly summed up your life   \n",
       "4234                  27 types of drunk you have definitely been as told by the sims   \n",
       "28386                                    passenger plane crashes in nepal killing 18   \n",
       "25783                  romanian sergeant killed in afghanistan by makeshift landmine   \n",
       "31581                       andy roddick presents challenge for coach larry stefanki   \n",
       "30564                                  time magazines 2006 person of the year is you   \n",
       "1492                                        the 11 types of kids we all grew up with   \n",
       "29532                                                               john m spratt jr   \n",
       "\n",
       "       clickbait  prediction  \n",
       "25864          0           0  \n",
       "7171           1           1  \n",
       "24488          0           0  \n",
       "27776          0           0  \n",
       "25936          0           0  \n",
       "27167          0           0  \n",
       "15390          1           1  \n",
       "14108          1           1  \n",
       "4234           1           1  \n",
       "28386          0           0  \n",
       "25783          0           0  \n",
       "31581          0           0  \n",
       "30564          0           1  \n",
       "1492           1           1  \n",
       "29532          0           0  "
      ]
     },
     "execution_count": 37,
     "metadata": {},
     "output_type": "execute_result"
    }
   ],
   "source": [
    "# Make predictions\n",
    "\n",
    "count_test = count_vectorizer.transform(X_test)\n",
    "y_pred = model.predict(count_test)\n",
    "\n",
    "predictions = pd.DataFrame(pd.concat([X_test, y_test], axis=1), columns=['text', 'clickbait'])\n",
    "predictions['prediction'] = y_pred\n",
    "\n",
    "predictions.head(15)"
   ]
  },
  {
   "cell_type": "code",
   "execution_count": 38,
   "metadata": {},
   "outputs": [
    {
     "name": "stdout",
     "output_type": "stream",
     "text": [
      "Accuracy = 0.9727\n",
      "Recall = 0.9805\n",
      "Precision = 0.965\n",
      "F1 score = 0.9727\n",
      "Confusion matrix\n",
      "[[3110  113]\n",
      " [  62 3115]]\n"
     ]
    }
   ],
   "source": [
    "# Accuracy measures\n",
    "\n",
    "accuracy = accuracy_score(y_test, y_pred)\n",
    "recall = recall_score(y_test, y_pred)\n",
    "precision = precision_score(y_test, y_pred)\n",
    "f1_score = f1_score(y_test, y_pred)\n",
    "confusion_matrix = confusion_matrix(y_test, y_pred)\n",
    "\n",
    "print('Accuracy =', round(accuracy, 4))\n",
    "print('Recall =', round(recall, 4))\n",
    "print('Precision =', round(precision, 4))\n",
    "print('F1 score =', round(f1_score, 4))\n",
    "print('Confusion matrix')\n",
    "print(confusion_matrix)"
   ]
  },
  {
   "cell_type": "code",
   "execution_count": 39,
   "metadata": {},
   "outputs": [],
   "source": [
    "# Save predictions to csv\n",
    "\n",
    "predictions.to_csv('outputs/predictions_nb.csv', index=False)"
   ]
  }
 ],
 "metadata": {
  "kernelspec": {
   "display_name": "venv",
   "language": "python",
   "name": "python3"
  },
  "language_info": {
   "codemirror_mode": {
    "name": "ipython",
    "version": 3
   },
   "file_extension": ".py",
   "mimetype": "text/x-python",
   "name": "python",
   "nbconvert_exporter": "python",
   "pygments_lexer": "ipython3",
   "version": "3.11.3"
  },
  "orig_nbformat": 4
 },
 "nbformat": 4,
 "nbformat_minor": 2
}
